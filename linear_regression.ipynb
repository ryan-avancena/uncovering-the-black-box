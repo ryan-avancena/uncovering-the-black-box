{
 "cells": [
  {
   "cell_type": "markdown",
   "metadata": {},
   "source": [
    "# machine learning - linear regression "
   ]
  },
  {
   "cell_type": "code",
   "execution_count": 1,
   "metadata": {},
   "outputs": [],
   "source": [
    "import numpy as np"
   ]
  },
  {
   "cell_type": "code",
   "execution_count": null,
   "metadata": {},
   "outputs": [],
   "source": [
    "\"\"\" initializing a linear regression instance \"\"\"\n",
    "\n",
    "class LinearRegression:\n",
    "    def __init__(self, X, y):\n",
    "        self.X = np.array(X)                            # feature matrix\n",
    "        self.y = np.array(y)                            # target values\n",
    "        self.num_attributes = self.X.shape[1]           # number of features\n",
    "        self.coef_ = np.zeros(self.num_attributes)      # initialize coefficients to zero\n",
    "        self.intercept_ = 0                             # initialize intercept to zero\n",
    "\n",
    "    def fit(self):\n",
    "\n",
    "        \"\"\"\n",
    "        fit the linear regression model using the least squares method\n",
    "        computes the coefficients (slope) and the intercept (bias)\n",
    "\n",
    "        \"\"\"\n",
    "\n",
    "        y_mean = np.mean(self.y)                    # sample mean of dependent variable\n",
    "        syy = np.mean((self.y - y_mean) ** 2)       # variance in 'y'\n",
    "\n",
    "\n",
    "        \"\"\" calculate coefficients for each feature \"\"\"\n",
    "        for k in range(self.num_attributes):\n",
    "            x_mean = np.mean(self.X[:, k])     # mean of feature k   \n",
    "            sxy = np.mean((self.X[:, k] - x_mean) * (self.y - y_mean))  # covariance(X,y)\n",
    "            sxx = np.mean((self.X[:, k] - x_mean) ** 2)                 # variance of X\n",
    "\n",
    "            if sxx != 0:  \n",
    "                self.coef_[k] = sxy / sxx\n",
    "            else:\n",
    "                self.coef_[k] = 0\n",
    "\n",
    "        self.intercept_ = y_mean - np.sum(self.coef_ * np.mean(self.X, axis=0))\n",
    "\n",
    "        print(f\"Intercept: {self.intercept_}\")\n",
    "        print(f\"Coefficients: {self.coef_}\")\n",
    "\n",
    "    def predict(self, X_new):\n",
    "        return self.intercept_ + np.dot(X_new, self.coef_)\n",
    "\n",
    "    def score(self):\n",
    "        yhat_tr = self.predict(self.X)\n",
    "        y_mean = np.mean(self.y)\n",
    "\n",
    "        ss_total = np.sum((self.y - y_mean) ** 2)\n",
    "        ss_residual = np.sum((self.y - yhat_tr) ** 2)\n",
    "\n",
    "        r2 = 1 - (ss_residual / ss_total)\n",
    "        print(f\"R^2 on training data: {r2:.3f}\")\n",
    "        return r2"
   ]
  },
  {
   "cell_type": "code",
   "execution_count": null,
   "metadata": {},
   "outputs": [
    {
     "name": "stdout",
     "output_type": "stream",
     "text": [
      "Intercept: 1.0\n",
      "Coefficients: [2.]\n",
      "R^2 on training data: 1.000000\n"
     ]
    },
    {
     "data": {
      "text/plain": [
       "np.float64(1.0)"
      ]
     },
     "execution_count": 11,
     "metadata": {},
     "output_type": "execute_result"
    }
   ],
   "source": [
    "X = np.array([[1], [2], [3], [4], [5], [6], [7], [8], [9], [10]])  \n",
    "Y = 2 * X + 1\n",
    "\n",
    "Y = Y.ravel()\n",
    "\n",
    "linreg = LinearRegression(X,Y)\n",
    "linreg.fit()\n",
    "linreg.score()"
   ]
  }
 ],
 "metadata": {
  "kernelspec": {
   "display_name": "venv",
   "language": "python",
   "name": "python3"
  },
  "language_info": {
   "codemirror_mode": {
    "name": "ipython",
    "version": 3
   },
   "file_extension": ".py",
   "mimetype": "text/x-python",
   "name": "python",
   "nbconvert_exporter": "python",
   "pygments_lexer": "ipython3",
   "version": "3.11.0"
  }
 },
 "nbformat": 4,
 "nbformat_minor": 2
}
