{
 "cells": [
  {
   "cell_type": "markdown",
   "metadata": {},
   "source": [
    "# machine learning - linear regression "
   ]
  },
  {
   "cell_type": "code",
   "execution_count": 1,
   "metadata": {},
   "outputs": [],
   "source": [
    "import numpy as np"
   ]
  },
  {
   "cell_type": "code",
   "execution_count": null,
   "metadata": {},
   "outputs": [
    {
     "ename": "NameError",
     "evalue": "name 'x_train' is not defined",
     "output_type": "error",
     "traceback": [
      "\u001b[31m---------------------------------------------------------------------------\u001b[39m",
      "\u001b[31mNameError\u001b[39m                                 Traceback (most recent call last)",
      "\u001b[36mCell\u001b[39m\u001b[36m \u001b[39m\u001b[32mIn[2]\u001b[39m\u001b[32m, line 42\u001b[39m\n\u001b[32m     39\u001b[39m         \u001b[38;5;28mprint\u001b[39m(\u001b[33mf\u001b[39m\u001b[33m\"\u001b[39m\u001b[33mR^2 on training data: \u001b[39m\u001b[38;5;132;01m{\u001b[39;00mr2\u001b[38;5;132;01m:\u001b[39;00m\u001b[33m.6f\u001b[39m\u001b[38;5;132;01m}\u001b[39;00m\u001b[33m\"\u001b[39m)\n\u001b[32m     40\u001b[39m         \u001b[38;5;28;01mreturn\u001b[39;00m r2\n\u001b[32m---> \u001b[39m\u001b[32m42\u001b[39m reg = LinearRegression(\u001b[43mx_train\u001b[49m, y_train)\n\u001b[32m     43\u001b[39m reg.fit()\n",
      "\u001b[31mNameError\u001b[39m: name 'x_train' is not defined"
     ]
    }
   ],
   "source": [
    "class LinearRegression:\n",
    "    def __init__(self, X, y):\n",
    "        self.X = np.array(X)                            # feature matrix\n",
    "        self.y = np.array(y)                            # target values\n",
    "        self.num_attributes = self.X.shape[1]           # number of features\n",
    "        self.coef_ = np.zeros(self.num_attributes)      # initialize coefficients to zero\n",
    "        self.intercept_ = 0                             # initialize intercept to zero\n",
    "\n",
    "    def fit(self):\n",
    "\n",
    "        \"\"\"\n",
    "        fit the linear regression model using the least squares method\n",
    "        computes the coefficients (slope) and the intercept (bias)\n",
    "\n",
    "        \"\"\"\n",
    "\n",
    "        y_mean = np.mean(self.y)                    # sample mean of dependent variable\n",
    "        syy = np.mean((self.y - y_mean) ** 2)       # variance in 'y'\n",
    "\n",
    "\n",
    "        \"\"\" calculate coefficients for each feature \"\"\"\n",
    "        for k in range(self.num_attributes):\n",
    "            x_mean = np.mean(self.X[:, k])     # mean of feature k   \n",
    "            sxy = np.mean((self.X[:, k] - x_mean) * (self.y - y_mean))  # covariance(X,y)\n",
    "            sxx = np.mean((self.X[:, k] - x_mean) ** 2)                 # variance of X\n",
    "\n",
    "            if sxx != 0:  \n",
    "                self.coef_[k] = sxy / sxx\n",
    "            else:\n",
    "                self.coef_[k] = 0\n",
    "\n",
    "        self.intercept_ = y_mean - np.sum(self.coef_ * np.mean(self.X, axis=0))\n",
    "\n",
    "        print(f\"Intercept: {self.intercept_}\")\n",
    "        print(f\"Coefficients: {self.coef_}\")\n",
    "\n",
    "    def predict(self, X_new):\n",
    "        return self.intercept_ + np.dot(X_new, self.coef_)\n",
    "\n",
    "    def score(self):\n",
    "        yhat_tr = self.predict(self.X)\n",
    "        y_mean = np.mean(self.y)\n",
    "\n",
    "        ss_total = np.sum((self.y - y_mean) ** 2)\n",
    "        ss_residual = np.sum((self.y - yhat_tr) ** 2)\n",
    "\n",
    "        r2 = 1 - (ss_residual / ss_total)\n",
    "        print(f\"R^2 on training data: {r2:.6f}\")\n",
    "        return r2"
   ]
  }
 ],
 "metadata": {
  "kernelspec": {
   "display_name": "venv",
   "language": "python",
   "name": "python3"
  },
  "language_info": {
   "codemirror_mode": {
    "name": "ipython",
    "version": 3
   },
   "file_extension": ".py",
   "mimetype": "text/x-python",
   "name": "python",
   "nbconvert_exporter": "python",
   "pygments_lexer": "ipython3",
   "version": "3.11.9"
  }
 },
 "nbformat": 4,
 "nbformat_minor": 2
}
